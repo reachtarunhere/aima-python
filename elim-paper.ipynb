{
 "cells": [
  {
   "cell_type": "code",
   "execution_count": 1,
   "metadata": {
    "collapsed": false
   },
   "outputs": [],
   "source": [
    "from prob_4e import *  # Temp for now. I want to check sampling inference algos before I move all this in main file."
   ]
  },
  {
   "cell_type": "markdown",
   "metadata": {},
   "source": [
    "In this brief tutorial, we will try to understand how variable elimination is implemented in the probability module. To help us with this we will take an example and simultaneously work it out by hand and draw comparisons with our code implementation.\n",
    "\n",
    "To begin with we need a simple bayesian network and an inference problem. We use the one explained below.\n",
    "\n",
    "Rain -> Traffic -> Late\n",
    "\n",
    "Rain can cause traffic which can result in us getting late. The distribution of the nodes is given by.\n",
    "\n",
    "| Rain | P(Rain)     |\n",
    "|------|-------------|\n",
    "| T   | 0.1         |\n",
    "| F   | 0.9         |\n",
    "\n",
    "| Rain | Traffic | P(Traffic &#124; Rain) |\n",
    "|----|----|-----------------|\n",
    "| T | T | 0.8 |\n",
    "| T | F | 0.2 |\n",
    "| F | T | 0.1 |\n",
    "| F | F | 0.9 |\n",
    "\n",
    "| Traffic | Late | P(Late &#124; Traffic) |\n",
    "|----|----|-----------------|\n",
    "| T | T | 0.3 |\n",
    "| T | F | 0.7 |\n",
    "| F | T | 0.1 |\n",
    "| F | F | 0.9 |\n",
    "\n",
    "We can create a Bayesian network using **BayesNet** Class and then invoke the **add** method to add each of our nodes. You can refer to the Probability Notebook to find out how to create a Bayesian Network.\n",
    "\n",
    "Let us assume we want to solve the problem of finding out the **P(Late)**."
   ]
  },
  {
   "cell_type": "code",
   "execution_count": 2,
   "metadata": {
    "collapsed": false
   },
   "outputs": [],
   "source": [
    "traffic_net = (BayesNet()\n",
    "    .add('Rain', [], 0.1)\n",
    "    .add('Traffic', ['Rain'], {T: 0.8, F: 0.1})\n",
    "    .add('Late', ['Traffic'], {T: 0.3, F: 0.1}))"
   ]
  },
  {
   "cell_type": "markdown",
   "metadata": {},
   "source": [
    "Variable Elimination works on the concept of eliminating all hidden variables. We do this by joining and eliminating variables alternatively. This helps us to keep the size of the join in control.\n",
    "\n",
    "In our problem, both Rain and Traffic are hidden variables.\n",
    "\n",
    "In reading the Probability notebook you might have noticed that the way we store probabilities of our variables is slightly different from the tables above."
   ]
  },
  {
   "cell_type": "code",
   "execution_count": 3,
   "metadata": {
    "collapsed": false
   },
   "outputs": [
    {
     "data": {
      "text/plain": [
       "[Rain, Traffic, Late]"
      ]
     },
     "execution_count": 3,
     "metadata": {},
     "output_type": "execute_result"
    }
   ],
   "source": [
    "traffic_net.variables"
   ]
  },
  {
   "cell_type": "markdown",
   "metadata": {},
   "source": [
    "Let us look at the cpt of the Traffic Variable."
   ]
  },
  {
   "cell_type": "code",
   "execution_count": 4,
   "metadata": {
    "collapsed": false
   },
   "outputs": [
    {
     "data": {
      "text/plain": [
       "{(F,): {F: 0.9, T: 0.1}, (T,): {F: 0.19999999999999996, T: 0.8}}"
      ]
     },
     "execution_count": 4,
     "metadata": {},
     "output_type": "execute_result"
    }
   ],
   "source": [
    "Rain, Traffic, Late = traffic_net.variables\n",
    "Traffic.cpt"
   ]
  },
  {
   "cell_type": "markdown",
   "metadata": {},
   "source": [
    "Here each key in the cpt is that of the value of the parent and it is mapped to a distribution for the variable itself. Therefore each row in the cpt corresponds to two in the corresponding table.\n",
    "\n",
    "| Rain | Traffic | P(Traffic &#124; Rain) |\n",
    "|----|----|-----------------|\n",
    "| T | T | 0.8 |\n",
    "| T | F | 0.2 |\n",
    "| F | T | 0.1 |\n",
    "| F | F | 0.9 |\n",
    "\n",
    "The (F,) in the cpt corresponds to the parent Rain being False and then the nested {F: 0.9, T: 0.1} list the probabilities in the last two rows of the table. Our implementation of **Factor** results in mapping exactly similar to the mappings. The function **variable_to_factor** converts each variable cpt to corresponding factors."
   ]
  },
  {
   "cell_type": "code",
   "execution_count": 5,
   "metadata": {
    "collapsed": true
   },
   "outputs": [],
   "source": [
    "%psource variable_to_factor"
   ]
  },
  {
   "cell_type": "code",
   "execution_count": 6,
   "metadata": {
    "collapsed": false
   },
   "outputs": [],
   "source": [
    "rain_factor, traffic_factor, late_factor = [variable_to_factor(var) for var in traffic_net.variables]"
   ]
  },
  {
   "cell_type": "code",
   "execution_count": 7,
   "metadata": {
    "collapsed": false
   },
   "outputs": [
    {
     "data": {
      "text/plain": [
       "{(F, F): 0.9, (F, T): 0.1, (T, F): 0.19999999999999996, (T, T): 0.8}"
      ]
     },
     "execution_count": 7,
     "metadata": {},
     "output_type": "execute_result"
    }
   ],
   "source": [
    "traffic_factor"
   ]
  },
  {
   "cell_type": "markdown",
   "metadata": {},
   "source": [
    "Now that the **traffic_factor** looks exactly the same as the table let us focus on solving the problem at hand. As per the Variable Elimination technique, we select a hidden variable and join all the factors that use it. Finally, we eliminate the hidden variable and carry on our process.\n",
    "\n",
    "We will first try to eliminate Rain. The tables for factors containing Rain are given below.\n",
    "\n",
    "| Rain | P(Rain)     |\n",
    "|------|-------------|\n",
    "| +r   | 0.1         |\n",
    "| -r   | 0.9         |\n",
    "\n",
    "| Rain |Traffic | P(Traffic &#124; Rain) |\n",
    "|----|----|-----------------|\n",
    "| T | T | 0.8 |\n",
    "| T | F | 0.2 |\n",
    "| F | T | 0.1 |\n",
    "| F | F | 0.9 |\n",
    "\n",
    "We should create a join of these of two variables as a first step to solving this problem. A join is very similar to a database join. It results in a new table. The columns in our new table will are any of the columns in either of the two tables i.e. the union. The rows will be the Cartesian Product of the domain of each of the columns.\n",
    "\n",
    "So on joining we would get a table like because the union of variables is {Rain, Traffic}\n",
    "\n",
    "| Rain |Traffic | f<sub>1</sub>(Traffic, Rain)  |\n",
    "|----|----|-----------------|\n",
    "| T | T | ? |\n",
    "| T | F | ?|\n",
    "| F | T | ? |\n",
    "| F | F | ? |\n",
    "\n",
    "We still need to compute what will be the probabilities in each of those rows. It can be given by multiplying the consistent rows. For example to compute the value for **Rain=F,Traffic=F** we look at the last row of both our tables and get \n",
    "**0.9 * 0.9 = 0.81**\n",
    "\n",
    "You can verify the same for the complete table now.\n",
    "\n",
    "| Rain |Traffic | f<sub>1</sub>(Traffic, Rain)  |\n",
    "|----|----|-----------------|\n",
    "| T | T | 0.08 |\n",
    "| T | F | 0.02 |\n",
    "| F | T | 0.09 |\n",
    "| F | F | 0.81 |\n",
    "\n",
    "The functionality to do the same operation using the **Factor** implementation is provided by the **pointwise_product** method. This method follows exactly same steps for calculating joins."
   ]
  },
  {
   "cell_type": "code",
   "execution_count": 8,
   "metadata": {
    "collapsed": true
   },
   "outputs": [],
   "source": [
    "%psource Factor.pointwise_product"
   ]
  },
  {
   "cell_type": "code",
   "execution_count": 9,
   "metadata": {
    "collapsed": false
   },
   "outputs": [
    {
     "data": {
      "text/plain": [
       "{(F, F): 0.81,\n",
       " (F, T): 0.09000000000000001,\n",
       " (T, F): 0.019999999999999997,\n",
       " (T, T): 0.08000000000000002}"
      ]
     },
     "execution_count": 9,
     "metadata": {},
     "output_type": "execute_result"
    }
   ],
   "source": [
    "join_rain_traffic = rain_factor.pointwise_product(traffic_factor)\n",
    "join_rain_traffic"
   ]
  },
  {
   "cell_type": "markdown",
   "metadata": {},
   "source": [
    "You can verify that the above matches well with the results we calculated by hand.\n",
    "\n",
    "Now after the calculating the join, we need to finally get rid of Rain using another operation called summing-out or marginalization.\n",
    "\n",
    "After this operation, we get a new table with the eliminated variable gone. The rows of this table are again the cartesian product of the domain of remaining variables.\n",
    "\n",
    "|Traffic| f<sub>2</sub>(Traffic) |\n",
    "|----|--------------|\n",
    "| T | ? |\n",
    "| F | ? |\n",
    "\n",
    "To fill out the entries in this table we look at the corresponding entries in the old table and sum them together.\n",
    "\n",
    "| Rain |Traffic | f<sub>1</sub>(Traffic, Rain)  |\n",
    "|----|----|-----------------|\n",
    "| T | T | 0.08 |\n",
    "| T | F | 0.02 |\n",
    "| F | T | 0.09 |\n",
    "| F | F | 0.81 |\n",
    "\n",
    "So to calculate the value for +t we see the corresponding entries Rain=T,Traffic=T and Rain=F,Traffic=T and sum them together to get 0.17. We repeat this for the rest of the rows in our new table.\n",
    "\n",
    "|Traffic| f<sub>2</sub>(Traffic) |\n",
    "|----|--------------|\n",
    "| T | 0.17 |\n",
    "| F | 0.83 |\n",
    "\n",
    "The same operation can be performed by using the method **Factor.sum_out**. It follows the same series of steps described above."
   ]
  },
  {
   "cell_type": "code",
   "execution_count": 10,
   "metadata": {
    "collapsed": true
   },
   "outputs": [],
   "source": [
    "%psource Factor.sum_out"
   ]
  },
  {
   "cell_type": "code",
   "execution_count": 11,
   "metadata": {
    "collapsed": false
   },
   "outputs": [
    {
     "data": {
      "text/plain": [
       "{(F,): 0.8300000000000001, (T,): 0.17000000000000004}"
      ]
     },
     "execution_count": 11,
     "metadata": {},
     "output_type": "execute_result"
    }
   ],
   "source": [
    "r_summed_out = join_rain_traffic.sum_out(Rain)\n",
    "r_summed_out"
   ]
  },
  {
   "cell_type": "markdown",
   "metadata": {},
   "source": [
    "Now we can repeat the above procedure to join our latest factor and eliminate on T."
   ]
  },
  {
   "cell_type": "code",
   "execution_count": 12,
   "metadata": {
    "collapsed": false
   },
   "outputs": [
    {
     "data": {
      "text/plain": [
       "{(F, F): 0.7470000000000001,\n",
       " (F, T): 0.11900000000000002,\n",
       " (T, F): 0.08300000000000002,\n",
       " (T, T): 0.05100000000000001}"
      ]
     },
     "execution_count": 12,
     "metadata": {},
     "output_type": "execute_result"
    }
   ],
   "source": [
    "join_on_t = r_summed_out.pointwise_product(late_factor)\n",
    "join_on_t"
   ]
  },
  {
   "cell_type": "code",
   "execution_count": 13,
   "metadata": {
    "collapsed": false
   },
   "outputs": [
    {
     "data": {
      "text/plain": [
       "{(F,): 0.8660000000000001, (T,): 0.13400000000000004}"
      ]
     },
     "execution_count": 13,
     "metadata": {},
     "output_type": "execute_result"
    }
   ],
   "source": [
    "ans = join_on_t.sum_out(Traffic)\n",
    "ans"
   ]
  }
 ],
 "metadata": {
  "kernelspec": {
   "display_name": "Python 3",
   "language": "python",
   "name": "python3"
  },
  "language_info": {
   "codemirror_mode": {
    "name": "ipython",
    "version": 3
   },
   "file_extension": ".py",
   "mimetype": "text/x-python",
   "name": "python",
   "nbconvert_exporter": "python",
   "pygments_lexer": "ipython3",
   "version": "3.4.3"
  },
  "widgets": {
   "state": {},
   "version": "1.1.1"
  }
 },
 "nbformat": 4,
 "nbformat_minor": 0
}
